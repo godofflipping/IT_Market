{
 "cells": [
  {
   "cell_type": "code",
   "execution_count": 1,
   "metadata": {},
   "outputs": [],
   "source": [
    "import pandas as pd\n",
    "import matplotlib.pyplot as plt\n",
    "import matplotlib.ticker as t\n",
    "import numpy as np\n",
    "from tqdm import tqdm"
   ]
  },
  {
   "cell_type": "code",
   "execution_count": 2,
   "metadata": {},
   "outputs": [],
   "source": [
    "column0 = 'IID'\n",
    "column1 = 'income'\n",
    "column2 = 'income_lic'\n",
    "column3 = 'employee_num'\n",
    "column4 = 'taxes'\n",
    "column5 = 'salary'\n",
    "df = pd.read_csv('fns_for_model.csv', delimiter=';')\n",
    "    \n",
    "df[column4] = df[\"taxesProfit\"] + df[\"taxesVAT\"] + df[\"taxesEmplSal\"]\n",
    "df[column5] = df['fot'] / df[column3]"
   ]
  },
  {
   "cell_type": "code",
   "execution_count": 12,
   "metadata": {},
   "outputs": [],
   "source": [
    "def HHI(year, quarter, column):\n",
    "    idx = 0\n",
    "    #df1 = df[(df['year'] == year) & (df['quarter'] == quarter) & (df['isIT'] == 1)]\n",
    "    df1 = df[(df['year'] == year) & (df['quarter'] == quarter)]\n",
    "    sum = df1[column].sum()\n",
    "    for i in df1[column0]:\n",
    "        idx += (df1.loc[(df1[column0] == i), column].item() / sum * 100) ** 2\n",
    "    return idx\n",
    "\n",
    "def HHI_50(year, quarter, column):\n",
    "    idx = 0\n",
    "    #df1 = df[(df['year'] == year) & (df['quarter'] == quarter) & (df['isIT'] == 1)]\n",
    "    df1 = df[(df['year'] == year) & (df['quarter'] == quarter)]\n",
    "    df1 = df1.sort_values(by=column, ascending=False)\n",
    "    sum = df1[column].sum()\n",
    "    df1 = df1.iloc[:50]\n",
    "    for i in df1[column0]:\n",
    "        idx += (df1.loc[(df1[column0] == i), column].item() / sum * 100) ** 2\n",
    "    return idx\n",
    "\n",
    "def HHI_500(year, quarter, column):\n",
    "    idx = 0\n",
    "    #df1 = df[(df['year'] == year) & (df['quarter'] == quarter) & (df['isIT'] == 1)]\n",
    "    df1 = df[(df['year'] == year) & (df['quarter'] == quarter)]\n",
    "    df1 = df1.sort_values(by=column, ascending=False)\n",
    "    sum = df1[column].sum()\n",
    "    df1 = df1.iloc[:500]\n",
    "    for i in df1[column0]:\n",
    "        idx += (df1.loc[(df1[column0] == i), column].item() / sum * 100) ** 2\n",
    "    return idx"
   ]
  },
  {
   "cell_type": "code",
   "execution_count": 4,
   "metadata": {},
   "outputs": [],
   "source": [
    "def correct_format(value, index):\n",
    "    if value == 1:\n",
    "        return '{:0.0f}'.format(2019)\n",
    "    if value == 5:\n",
    "        return '{:0.0f}'.format(2020)\n",
    "    if value == 9:\n",
    "        return '{:0.0f}'.format(2021)\n",
    "    \n",
    "correct_format = t.FuncFormatter(correct_format)"
   ]
  },
  {
   "cell_type": "code",
   "execution_count": 13,
   "metadata": {},
   "outputs": [],
   "source": [
    "def XY_full(column):\n",
    "    x = [i for i in range(1, 12)]\n",
    "    y = []\n",
    "    y_50 = []\n",
    "    y_500 = []\n",
    "    for i in range(2019, 2022):\n",
    "        for j in range(1, 5):\n",
    "            if j == 4 and i == 2021:\n",
    "                break\n",
    "            y.append(HHI(i, j, column))\n",
    "            y_50.append(HHI_50(i, j, column))\n",
    "            y_500.append(HHI_500(i, j, column))\n",
    "    return (x, y, y_50, y_500)\n",
    "\n",
    "def XY(column):\n",
    "    x = [i for i in range(1, 12)]\n",
    "    y = []\n",
    "    for i in range(2019, 2022):\n",
    "        for j in range(1, 5):\n",
    "            if j == 4 and i == 2021:\n",
    "                break\n",
    "            y.append(HHI(i, j, column))\n",
    "    return (x, y)\n",
    "\n",
    "x_income, y_income, y_income_50, y_income_500 = XY_full(column1)\n",
    "x_lic, y_lic, y_lic_50, y_lic_500 = XY_full(column2)"
   ]
  },
  {
   "cell_type": "code",
   "execution_count": 36,
   "metadata": {},
   "outputs": [],
   "source": [
    "def plot_constructor_quarter(x, y):\n",
    "    \n",
    "    figure, ax1= plt.subplots()\n",
    "    ax1.set_ylabel('HHI', rotation='horizontal')\n",
    "    ax1.set_xlabel('T')\n",
    "    ax1.yaxis.set_label_coords(0.015, 1.015)\n",
    "    ax1.xaxis.set_label_coords(1.025, -0.01)\n",
    "    ax1.set_xticks([i for i in range(1, 12)])\n",
    "    ax1.xaxis.set_major_formatter(correct_format)\n",
    "    \n",
    "    ax1.plot(x, y, color='blue', markersize=3.)\n",
    "    ax1.grid()\n",
    "    plt.xlim(xmin=1)\n",
    "    plt.ylim(ymin=0, ymax=120)\n",
    "    plt.show()\n",
    "\n",
    "    return figure\n",
    "\n",
    "def plot_constructor_quarter_full(x, y, y_50, y_500, y_lic):\n",
    "    \n",
    "    figure, ax1= plt.subplots()\n",
    "    ax1.set_ylabel('HHI', rotation='horizontal')\n",
    "    ax1.set_xlabel('T')\n",
    "    ax1.yaxis.set_label_coords(0.015, 1.015)\n",
    "    ax1.xaxis.set_label_coords(1.025, -0.01)\n",
    "    ax1.set_xticks([i for i in range(1, 12)])\n",
    "    ax1.xaxis.set_major_formatter(correct_format)\n",
    "    \n",
    "    ax1.plot(x, y_500, color='red', markersize=3.)\n",
    "    ax1.plot(x, y, color='blue', markersize=3.)\n",
    "    ax1.plot(x, y_50, color='green', markersize=3.)\n",
    "    ax1.plot(x, y_lic, color='#22175C', markersize=3.)\n",
    "    \n",
    "    ax1.grid()\n",
    "    plt.xlim(xmin=1)\n",
    "    plt.ylim(ymin=0, ymax=1000)\n",
    "    plt.show()\n",
    "\n",
    "    return figure"
   ]
  },
  {
   "cell_type": "code",
   "execution_count": 37,
   "metadata": {},
   "outputs": [
    {
     "data": {
      "image/png": "[encoded data removed]",
      "text/plain": [
       "<Figure size 432x288 with 1 Axes>"
      ]
     },
     "metadata": {
      "needs_background": "light"
     },
     "output_type": "display_data"
    },
    {
     "data": {
      "image/png": "[encoded data removed]",
      "text/plain": [
       "<Figure size 432x288 with 1 Axes>"
      ]
     },
     "metadata": {
      "needs_background": "light"
     },
     "output_type": "display_data"
    }
   ],
   "source": [
    "figure = plot_constructor_quarter(x_income, y_income)\n",
    "figure.savefig('./HHI/hhi-ac-income.png', format='png', transparent=True)\n",
    "figure.savefig('./HHI/hhi-ac-income.eps', format='eps', transparent=True)\n",
    "\n",
    "figure = plot_constructor_quarter_full(x_income, y_income, y_income_50, y_income_500, y_lic)\n",
    "figure.savefig('./HHI/hhi-income_lic1.png', format='png', transparent=True)\n",
    "figure.savefig('./HHI/hhi-income_lic1.eps', format='eps', transparent=True)\n",
    "\n",
    "#figure = plot_constructor_quarter(x_lic, y_lic)\n",
    "#figure.savefig('./HHI/hhi-not-ac-income_lic.png', format='png', transparent=True)\n",
    "#figure.savefig('./HHI/hhi-not-ac-income_lic.eps', format='eps', transparent=True)"
   ]
  },
  {
   "cell_type": "code",
   "execution_count": 146,
   "metadata": {},
   "outputs": [],
   "source": [
    "def HHI_year(year, column):\n",
    "    idx = 0\n",
    "    df1 = df[(df['year'] == year) & (df['isIT'] == 1)]\n",
    "    #df1 = df[(df['year'] == year)]\n",
    "    sum = df1[column].sum()\n",
    "    previous = -1\n",
    "    for i in tqdm(df1[column0]):\n",
    "        if previous == i:\n",
    "            continue\n",
    "        df_dummy = df1[(df1[column0] == i)]\n",
    "        quarters_sum = df_dummy[column].sum()\n",
    "        idx += (quarters_sum / sum * 100) ** 2\n",
    "        previous = i\n",
    "    return idx"
   ]
  },
  {
   "cell_type": "code",
   "execution_count": 147,
   "metadata": {},
   "outputs": [
    {
     "name": "stderr",
     "output_type": "stream",
     "text": [
      "100%|██████████| 43426/43426 [00:03<00:00, 12489.59it/s]\n",
      "100%|██████████| 43939/43939 [00:03<00:00, 13095.05it/s]\n",
      "100%|██████████| 33501/33501 [00:03<00:00, 10207.24it/s]\n"
     ]
    }
   ],
   "source": [
    "def XY_year(column):\n",
    "    x = [2019, 2020, 2021]\n",
    "    y = []\n",
    "    for i in x:\n",
    "        y.append(HHI_year(i, column))\n",
    "    return (x, y)\n",
    "\n",
    "x_income_year, y_income_year = XY_year(column1)\n",
    "#x_income_lic_year, y_income_lic_year = XY_year(column2)"
   ]
  },
  {
   "cell_type": "code",
   "execution_count": 148,
   "metadata": {},
   "outputs": [],
   "source": [
    "def plot_constructor_year(x, y):\n",
    "    \n",
    "    figure, ax1= plt.subplots()\n",
    "    ax1.set_ylabel('HHI', rotation='horizontal')\n",
    "    ax1.set_xlabel('T')\n",
    "    ax1.yaxis.set_label_coords(0.015, 1.015)\n",
    "    ax1.xaxis.set_label_coords(1.025, -0.01)\n",
    "    ax1.set_xticks([2019, 2020, 2021])\n",
    "    ax1.plot(x, y, color='blue', markersize=3.)\n",
    "    ax1.grid()\n",
    "    plt.xlim(xmin=x[0])\n",
    "    plt.ylim(ymin=0, ymax=120)\n",
    "    plt.show()\n",
    "\n",
    "    return figure"
   ]
  },
  {
   "cell_type": "code",
   "execution_count": 149,
   "metadata": {},
   "outputs": [
    {
     "data": {
      "image/png": "[encoded data removed]",
      "text/plain": [
       "<Figure size 432x288 with 1 Axes>"
      ]
     },
     "metadata": {
      "needs_background": "light"
     },
     "output_type": "display_data"
    }
   ],
   "source": [
    "figure = plot_constructor_year(x_income_year, y_income_year)\n",
    "figure.savefig('./HHI/hhi-ac-income-Y.png', format='png', transparent=True)\n",
    "figure.savefig('./HHI/hhi-ac-income-Y.eps', format='eps', transparent=True)\n",
    "\n",
    "#figure = plot_constructor_year(x_income_lic_year, y_income_lic_year)\n",
    "#figure.savefig('./HHI/hhi-not-ac-income_lic-Y.png', format='png', transparent=True)\n",
    "#figure.savefig('./HHI/hhi-not-ac-income_lic-Y.eps', format='eps', transparent=True)"
   ]
  }
 ],
 "metadata": {
  "kernelspec": {
   "display_name": "Python 3.9.2 64-bit",
   "language": "python",
   "name": "python3"
  },
  "language_info": {
   "codemirror_mode": {
    "name": "ipython",
    "version": 3
   },
   "file_extension": ".py",
   "mimetype": "text/x-python",
   "name": "python",
   "nbconvert_exporter": "python",
   "pygments_lexer": "ipython3",
   "version": "3.9.2"
  },
  "orig_nbformat": 4,
  "vscode": {
   "interpreter": {
    "hash": "9ae07eabbc5835603535544dcfe1f3405513a44d47826b254168278bdfaacbad"
   }
  }
 },
 "nbformat": 4,
 "nbformat_minor": 2
}
