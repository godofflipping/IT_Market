{
 "cells": [
  {
   "cell_type": "code",
   "execution_count": 12,
   "metadata": {},
   "outputs": [],
   "source": [
    "import pandas as pd\n",
    "import matplotlib.pyplot as plt\n",
    "import matplotlib.ticker as t\n",
    "import numpy as np"
   ]
  },
  {
   "cell_type": "code",
   "execution_count": 13,
   "metadata": {},
   "outputs": [],
   "source": [
    "IID_to_income_helper = {}\n",
    "IID_to_income = {}\n",
    "IID_to_income_lic = {}\n",
    "IID_to_employee_num = {}\n",
    "IID_to_taxes = {}\n",
    "IID_to_salary = {}\n",
    "total = {}\n",
    "\n",
    "column1 = 'income'\n",
    "column2 = 'income_lic'\n",
    "column3 = 'employee_num'\n",
    "column4 = 'taxes'\n",
    "column5 = 'salary'\n",
    "df = pd.read_csv('fns_for_model.csv', delimiter=';')\n",
    "    \n",
    "df[column4] = df[\"taxesProfit\"] + df[\"taxesVAT\"] + df[\"taxesEmplSal\"]\n",
    "df[column5] = df['fot'] / df[column3]"
   ]
  },
  {
   "cell_type": "code",
   "execution_count": 14,
   "metadata": {},
   "outputs": [],
   "source": [
    "def human_format(num):\n",
    "    num = float('{:.3g}'.format(num))\n",
    "    magnitude = 0\n",
    "    while abs(num) >= 1000:\n",
    "        magnitude += 1\n",
    "        num /= 1000.0\n",
    "    return '{}{}'.format('{:f}'.format(num).rstrip('0').rstrip('.'), ['', 'K', 'M', 'B', 'T'][magnitude])"
   ]
  },
  {
   "cell_type": "code",
   "execution_count": 15,
   "metadata": {},
   "outputs": [],
   "source": [
    "def one_quarter(column, year, quarter):\n",
    "    \n",
    "    df_income = df[(df['year'] == year) & (df['quarter'] == quarter)]\n",
    "    income_sum = df_income[column].sum()\n",
    "\n",
    "    df2 = df_income.sort_values(by=column, ascending=False)\n",
    "    \n",
    "    IID_to_income_helper = dict(zip(df2['IID'], df2[column]))\n",
    "    for key in IID_to_income_helper:\n",
    "        if column == column1:\n",
    "            IID_to_income[(key, year, quarter)] = IID_to_income_helper[key]\n",
    "        if column == column2:\n",
    "            IID_to_income_lic[(key, year, quarter)] = IID_to_income_helper[key]\n",
    "        if column == column3:\n",
    "            IID_to_employee_num[(key, year, quarter)] = IID_to_income_helper[key]\n",
    "        if column == column4:\n",
    "            IID_to_taxes[(key, year, quarter)] = IID_to_income_helper[key]    \n",
    "        if column == column5:\n",
    "            IID_to_salary[(key, year, quarter)] = IID_to_income_helper[key]\n",
    "        "
   ]
  },
  {
   "cell_type": "code",
   "execution_count": 16,
   "metadata": {},
   "outputs": [],
   "source": [
    "year = 2021\n",
    "quarter = 3\n",
    "one_quarter(column=column1, year=year, quarter=quarter)\n",
    "one_quarter(column=column2, year=year, quarter=quarter)\n",
    "one_quarter(column=column3, year=year, quarter=quarter)\n",
    "one_quarter(column=column4, year=year, quarter=quarter)\n",
    "one_quarter(column=column5, year=year, quarter=quarter)"
   ]
  },
  {
   "cell_type": "code",
   "execution_count": 17,
   "metadata": {},
   "outputs": [],
   "source": [
    "def result(IID_to):\n",
    "    sum = 0\n",
    "    for key in IID_to.keys():\n",
    "        for i in range(2019, 2022):\n",
    "            for j in range(1, 5):\n",
    "                if (key[0], i, j) in IID_to:\n",
    "                    sum += IID_to[(key[0], i, j)]\n",
    "                    total[key[0]] = sum\n",
    "        sum = 0\n",
    "    dict(sorted(total.items(), key=lambda item: item[1]))\n",
    "    df = pd.DataFrame(list(total.items()))\n",
    "    income_sum = df[1].sum()\n",
    "    i = 1\n",
    "    while (df[1][0:i].sum() <= 0.2 * income_sum):\n",
    "        i += 1\n",
    "    print(\"20% count - \" + str(i) + \" : \" + str(df[1][0:i].sum()) + \" / \" + str(income_sum))\n",
    "\n",
    "    i1 = 1\n",
    "    while (df[1][0:i1].sum() <= 0.8 * income_sum):\n",
    "        i1 += 1\n",
    "    print(\"80% count - \" + str(i1) + \" : \" + str(df[1][0:i1].sum()) + \" / \" + str(income_sum))\n",
    "\n",
    "    i2 = i1 + 1\n",
    "    while (df[1][i1:i2].sum() <= 0.15 * income_sum):\n",
    "        i2 += 1\n",
    "    print(\"15% count - \" + str(i2-i1) + \" : \" + str(df[1][i1:i2].sum()) + \" / \" + str(income_sum))\n",
    "\n",
    "    print(\"5% count - \" + str(df[1].size - i2))\n",
    "    \n",
    "    return df"
   ]
  },
  {
   "cell_type": "code",
   "execution_count": 18,
   "metadata": {},
   "outputs": [
    {
     "name": "stdout",
     "output_type": "stream",
     "text": [
      "20% count - 17 : 688675101949.0 / 3365269532443.0\n",
      "80% count - 764 : 2692481249637.0 / 3365269532443.0\n",
      "15% count - 1565 : 504849621994.0 / 3365269532443.0\n",
      "5% count - 34495\n"
     ]
    }
   ],
   "source": [
    "# income\n",
    "df_income = result(IID_to_income)"
   ]
  },
  {
   "cell_type": "code",
   "execution_count": 19,
   "metadata": {},
   "outputs": [
    {
     "name": "stdout",
     "output_type": "stream",
     "text": [
      "20% count - 21 : 25401132822.5 / 121225715853.0\n",
      "80% count - 729 : 97405382938.0 / 121225715853.0\n",
      "15% count - 2599 : 18204264621.0 / 121225715853.0\n",
      "5% count - 33496\n"
     ]
    }
   ],
   "source": [
    "# income_lic\n",
    "df_income_lic = result(IID_to_income_lic)"
   ]
  },
  {
   "cell_type": "code",
   "execution_count": 20,
   "metadata": {},
   "outputs": [
    {
     "name": "stdout",
     "output_type": "stream",
     "text": [
      "20% count - 26 : 82423586613 / 408313540498\n",
      "80% count - 1839 : 326672407625 / 408313540498\n",
      "15% count - 25426 : 61247406970 / 408313540498\n",
      "5% count - 9559\n"
     ]
    }
   ],
   "source": [
    "# taxes\n",
    "df_taxes = result(IID_to_taxes)"
   ]
  },
  {
   "cell_type": "code",
   "execution_count": 21,
   "metadata": {},
   "outputs": [
    {
     "name": "stdout",
     "output_type": "stream",
     "text": [
      "20% count - 75 : 312694.0833333333 / 1560697.708333333\n",
      "80% count - 20827 : 1248572.3749999998 / 1560697.708333333\n",
      "15% count - 11825 : 234157.99999999997 / 1560697.708333333\n",
      "5% count - 4172\n"
     ]
    }
   ],
   "source": [
    "# employee_num\n",
    "df_employee_num = result(IID_to_employee_num)"
   ]
  },
  {
   "cell_type": "code",
   "execution_count": 22,
   "metadata": {},
   "outputs": [],
   "source": [
    "# taxes and income\n",
    "AA = AB = AC = BA = BB = BC = CA = CB = CC = 0\n",
    "income_sum = df_income[1].sum()\n",
    "taxes_sum = df_taxes[1].sum()\n",
    "\n",
    "\n",
    "i1 = 0\n",
    "while (df_income[1][0:i1].sum() <= 0.8 * income_sum):\n",
    "    i1 += 1\n",
    "j1 = 0\n",
    "while(df_taxes[1][0:j1].sum() <= 0.8 * taxes_sum):\n",
    "    j1 += 1\n",
    "\n",
    "j2 = j1 + 1\n",
    "while(df_taxes[1][j1:j2].sum() <= 0.15 * taxes_sum):\n",
    "    j2 += 1\n",
    "        \n",
    "AA = len(list(set(df_income[0][0:i1]).intersection(df_taxes[0][0:j1])))\n",
    "AB = len(list(set(df_taxes[0][j1:j2]).intersection(df_income[0][0:i1])))\n",
    "AC = df_income[0][0:i1].size - AA - AB\n",
    "\n",
    "\n",
    "i2 = i1 + 1\n",
    "while (df_income[1][i1:i2].sum() <= 0.15 * income_sum):\n",
    "    i2 += 1\n",
    "\n",
    "BA = len(list(set(df_income[0][i1:i2]).intersection(df_taxes[0][0:j1])))\n",
    "BB = len(list(set(df_taxes[0][j1:j2]).intersection(df_income[0][i1:i2])))\n",
    "BC = df_income[0][i1:i2].size - BA - BB\n",
    "\n",
    "i3 = i2 + 1\n",
    "while (df_income[1][i3 - 1] != 0):\n",
    "    i3 += 1\n",
    "C = df_income[0][0:i3].size\n",
    "end = df_income[0].size\n",
    "CA = len(list(set(df_income[0][i2:end]).intersection(df_taxes[0][0:j1])))\n",
    "CB = len(list(set(df_income[0][i2:end]).intersection(df_taxes[0][j1:j2])))\n",
    "CC = df_income[0][i2:end].size - CA - CB"
   ]
  },
  {
   "cell_type": "code",
   "execution_count": 23,
   "metadata": {},
   "outputs": [
    {
     "data": {
      "text/html": [
       "<div>\n",
       "<style scoped>\n",
       "    .dataframe tbody tr th:only-of-type {\n",
       "        vertical-align: middle;\n",
       "    }\n",
       "\n",
       "    .dataframe tbody tr th {\n",
       "        vertical-align: top;\n",
       "    }\n",
       "\n",
       "    .dataframe thead th {\n",
       "        text-align: right;\n",
       "    }\n",
       "</style>\n",
       "<table border=\"1\" class=\"dataframe\">\n",
       "  <thead>\n",
       "    <tr style=\"text-align: right;\">\n",
       "      <th></th>\n",
       "      <th>A</th>\n",
       "      <th>B</th>\n",
       "      <th>C</th>\n",
       "    </tr>\n",
       "  </thead>\n",
       "  <tbody>\n",
       "    <tr>\n",
       "      <th>A</th>\n",
       "      <td>764</td>\n",
       "      <td>0</td>\n",
       "      <td>0</td>\n",
       "    </tr>\n",
       "    <tr>\n",
       "      <th>B</th>\n",
       "      <td>1075</td>\n",
       "      <td>490</td>\n",
       "      <td>0</td>\n",
       "    </tr>\n",
       "    <tr>\n",
       "      <th>C</th>\n",
       "      <td>0</td>\n",
       "      <td>24936</td>\n",
       "      <td>9559</td>\n",
       "    </tr>\n",
       "  </tbody>\n",
       "</table>\n",
       "</div>"
      ],
      "text/plain": [
       "      A      B     C\n",
       "A   764      0     0\n",
       "B  1075    490     0\n",
       "C     0  24936  9559"
      ]
     },
     "execution_count": 23,
     "metadata": {},
     "output_type": "execute_result"
    }
   ],
   "source": [
    "df_print = pd.DataFrame([[AA, AB, AC], [BA, BB, BC], [CA, CB, CC]], index=['A', 'B', 'C'], columns=['A', 'B', 'C'])\n",
    "df_print"
   ]
  },
  {
   "cell_type": "code",
   "execution_count": 24,
   "metadata": {},
   "outputs": [],
   "source": [
    "def format_number(value, index):\n",
    "    if value == 1:\n",
    "        return '{:0.0f}'.format(value)\n",
    "    if value == 10:\n",
    "        return '{:0.0f}'.format(value)\n",
    "    if value == 100:\n",
    "        return '{:0.0f}'.format(value)\n",
    "    if value == 1000:\n",
    "        return '{:0.0f}'.format(value)\n",
    "    if value == 10000:\n",
    "        return '{:0.0f}'.format(value)\n",
    "    if value == 100000:\n",
    "        return '{:0.0f}'.format(value)"
   ]
  },
  {
   "cell_type": "code",
   "execution_count": 25,
   "metadata": {},
   "outputs": [
    {
     "data": {
      "image/png": "[encoded data removed]",
      "text/plain": [
       "<Figure size 864x504 with 1 Axes>"
      ]
     },
     "metadata": {
      "needs_background": "light"
     },
     "output_type": "display_data"
    }
   ],
   "source": [
    "x = [i for i in range(0, df_income[0].size + 1)]\n",
    "y = []\n",
    "sum = 0\n",
    "for i in range(df_income[1].size + 1):\n",
    "    if i != 0:\n",
    "        sum += df_income[1][i - 1] / 1e9\n",
    "    y.append(sum)\n",
    "figure = plt.figure(figsize=[12, 7])\n",
    "ax = figure.add_subplot()\n",
    "ax.set_ylabel('S, млрд.руб.', rotation='horizontal')\n",
    "ax.set_xlabel('N')\n",
    "ax.yaxis.set_label_coords(-0.01, 1.02)\n",
    "ax.xaxis.set_label_coords(1.01, -0.01)\n",
    "ax.ticklabel_format(useOffset=False, style='plain')\n",
    "plt.plot(x, y, color='blue')\n",
    "A = AA + AB + AC\n",
    "B = BA + BB + BC + A\n",
    "plt.vlines(x = A, ymin= 0, ymax = y[A], color='tab:blue', linestyles=':')\n",
    "plt.vlines(x = B, ymin= 0, ymax = y[B], color='tab:blue', linestyles=':')\n",
    "plt.vlines(x = C, ymin= 0, ymax = y[C], color='tab:blue', linestyles=':')\n",
    "plt.hlines(xmin = 0, xmax = A, y = y[A], color='tab:blue', linestyles=':')\n",
    "plt.hlines(xmin = 0, xmax = B, y = y[B], color='tab:blue', linestyles=':')\n",
    "plt.grid()\n",
    "plt.xlim(xmin=0)\n",
    "plt.ylim(ymin=0)\n",
    "plt.show()\n",
    "\n",
    "figure.savefig('./ABC(no average salary)/AS1-ABC-Income-2021Q3.png', format='png')\n",
    "figure.savefig('./ABC(no average salary)/AS1-ABC-Income-2021Q3.eps', format='eps')"
   ]
  },
  {
   "cell_type": "code",
   "execution_count": 26,
   "metadata": {},
   "outputs": [
    {
     "data": {
      "image/png": "[encoded data removed]",
      "text/plain": [
       "<Figure size 432x288 with 1 Axes>"
      ]
     },
     "metadata": {
      "needs_background": "light"
     },
     "output_type": "display_data"
    }
   ],
   "source": [
    "x = [i for i in range(1, df_income[0].size + 1)]\n",
    "y = []\n",
    "sum = 0\n",
    "for i in range(1, df_income[1].size + 1):\n",
    "    sum += df_income[1][i - 1] / 1e12\n",
    "    y.append(sum)\n",
    "    \n",
    "figure, ax = plt.subplots()\n",
    "ax.set_ylabel('S, трлн.руб.', rotation='horizontal')\n",
    "ax.set_xlabel('N')\n",
    "ax.yaxis.set_label_coords(0.03, 1.03)\n",
    "ax.xaxis.set_label_coords(1.01, -0.05)\n",
    "ax.ticklabel_format(useOffset=False, style='plain')\n",
    "ax.plot(x, y, color='blue', markersize=3.)\n",
    "ax.set_xscale('log', base = 10)\n",
    "ax.set_xticks([1, 10, 100, 1000, 10000, 100000, 100000])\n",
    "ax.xaxis.set_major_formatter(format_number)\n",
    "A = AA + AB + AC\n",
    "B = BA + BB + BC + A\n",
    "plt.vlines(x = A, ymin= 0, ymax = y[A], color='tab:blue', linestyles='--', linewidth=1)\n",
    "plt.vlines(x = B, ymin= 0, ymax = y[B], color='tab:blue', linestyles='--', linewidth=1)\n",
    "plt.vlines(x = C, ymin= 0, ymax = y[C], color='tab:blue', linestyles='--', linewidth=1)\n",
    "plt.hlines(xmin = 0, xmax = A, y = y[A], color='tab:blue', linestyles='--', linewidth=1)\n",
    "plt.hlines(xmin = 0, xmax = B, y = y[B], color='tab:blue', linestyles='--', linewidth=1)\n",
    "plt.hlines(xmin = 0, xmax = C, y = y[C], color='tab:blue', linestyles='--', linewidth=1)\n",
    "plt.grid()\n",
    "plt.xlim(xmin=1)\n",
    "plt.ylim(ymin=0)\n",
    "plt.show()\n",
    "\n",
    "figure.savefig('./ABC(no average salary)/AS1-ABC-Income-2021Q3-log.png', format='png')\n",
    "figure.savefig('./ABC(no average salary)/AS1-ABC-Income-2021Q3-log.eps', format='eps')"
   ]
  }
 ],
 "metadata": {
  "kernelspec": {
   "display_name": "Python 3.9.2 64-bit",
   "language": "python",
   "name": "python3"
  },
  "language_info": {
   "codemirror_mode": {
    "name": "ipython",
    "version": 3
   },
   "file_extension": ".py",
   "mimetype": "text/x-python",
   "name": "python",
   "nbconvert_exporter": "python",
   "pygments_lexer": "ipython3",
   "version": "3.9.2"
  },
  "orig_nbformat": 4,
  "vscode": {
   "interpreter": {
    "hash": "9ae07eabbc5835603535544dcfe1f3405513a44d47826b254168278bdfaacbad"
   }
  }
 },
 "nbformat": 4,
 "nbformat_minor": 2
}
